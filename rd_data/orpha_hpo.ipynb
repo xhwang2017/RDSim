{
 "cells": [
  {
   "cell_type": "code",
   "execution_count": 45,
   "id": "c941ac39-c7df-4fc8-95a3-0d68d6b86b71",
   "metadata": {
    "editable": true,
    "slideshow": {
     "slide_type": ""
    },
    "tags": []
   },
   "outputs": [],
   "source": [
    "import pandas as pd\n",
    "import numpy as np"
   ]
  },
  {
   "cell_type": "code",
   "execution_count": 47,
   "id": "54fdf596-36be-4e57-9a76-8c5d4e3ab639",
   "metadata": {
    "editable": true,
    "slideshow": {
     "slide_type": ""
    },
    "tags": []
   },
   "outputs": [
    {
     "name": "stderr",
     "output_type": "stream",
     "text": [
      "/var/folders/fq/f9fql1ns42j64klkb0rn71l80000gn/T/ipykernel_76082/1667063602.py:3: DtypeWarning: Columns (2,6,8,9) have mixed types. Specify dtype option on import or set low_memory=False.\n",
      "  data = pd.read_csv('phenotype.hpoa', sep='\\t', comment='#')\n"
     ]
    }
   ],
   "source": [
    "# Read the hop annotation file \"phenotype.hpoa\", which is avaiable on this website\n",
    "# https://hpo.jax.org/data/annotations\n",
    "data = pd.read_csv('phenotype.hpoa', sep='\\t', comment='#')"
   ]
  },
  {
   "cell_type": "code",
   "execution_count": 49,
   "id": "562b627a-7fe0-4770-a899-b631c32befc8",
   "metadata": {
    "editable": true,
    "slideshow": {
     "slide_type": ""
    },
    "tags": []
   },
   "outputs": [
    {
     "name": "stdout",
     "output_type": "stream",
     "text": [
      "        database_id                                   disease_name qualifier  \\\n",
      "0       OMIM:619340  Developmental and epileptic encephalopathy 96       NaN   \n",
      "1       OMIM:619340  Developmental and epileptic encephalopathy 96       NaN   \n",
      "2       OMIM:619340  Developmental and epileptic encephalopathy 96       NaN   \n",
      "3       OMIM:619340  Developmental and epileptic encephalopathy 96       NaN   \n",
      "4       OMIM:619340  Developmental and epileptic encephalopathy 96       NaN   \n",
      "...             ...                                            ...       ...   \n",
      "268771   ORPHA:1777                               Temtamy syndrome       NaN   \n",
      "268772   ORPHA:1777                               Temtamy syndrome       NaN   \n",
      "268773   ORPHA:1777                               Temtamy syndrome       NaN   \n",
      "268774   ORPHA:1777                               Temtamy syndrome       NaN   \n",
      "268775   ORPHA:1777                               Temtamy syndrome       NaN   \n",
      "\n",
      "            hpo_id      reference evidence onset   frequency  sex modifier  \\\n",
      "0       HP:0011097  PMID:31675180      PCS   NaN         1/2  NaN      NaN   \n",
      "1       HP:0002187  PMID:31675180      PCS   NaN         1/1  NaN      NaN   \n",
      "2       HP:0001518  PMID:31675180      PCS   NaN         1/2  NaN      NaN   \n",
      "3       HP:0032792  PMID:31675180      PCS   NaN         1/2  NaN      NaN   \n",
      "4       HP:0011451  PMID:31675180      PCS   NaN         1/2  NaN      NaN   \n",
      "...            ...            ...      ...   ...         ...  ...      ...   \n",
      "268771  HP:0000324     ORPHA:1777      TAS   NaN  HP:0040283  NaN      NaN   \n",
      "268772  HP:0000506     ORPHA:1777      TAS   NaN  HP:0040283  NaN      NaN   \n",
      "268773  HP:0000568     ORPHA:1777      TAS   NaN  HP:0040283  NaN      NaN   \n",
      "268774  HP:0004209     ORPHA:1777      TAS   NaN  HP:0040283  NaN      NaN   \n",
      "268775  HP:0001382     ORPHA:1777      TAS   NaN  HP:0040283  NaN      NaN   \n",
      "\n",
      "       aspect                  biocuration  \n",
      "0           P    HPO:probinson[2021-06-21]  \n",
      "1           P    HPO:probinson[2021-06-21]  \n",
      "2           P    HPO:probinson[2021-06-21]  \n",
      "3           P    HPO:probinson[2021-06-21]  \n",
      "4           P    HPO:probinson[2021-06-21]  \n",
      "...       ...                          ...  \n",
      "268771      P  ORPHA:orphadata[2024-08-13]  \n",
      "268772      P  ORPHA:orphadata[2024-08-13]  \n",
      "268773      P  ORPHA:orphadata[2024-08-13]  \n",
      "268774      P  ORPHA:orphadata[2024-08-13]  \n",
      "268775      P  ORPHA:orphadata[2024-08-13]  \n",
      "\n",
      "[268776 rows x 12 columns]\n"
     ]
    }
   ],
   "source": [
    "print(data)"
   ]
  },
  {
   "cell_type": "code",
   "execution_count": 51,
   "id": "32733fa2-0a7c-482f-bbd5-44e960e68e75",
   "metadata": {
    "editable": true,
    "slideshow": {
     "slide_type": ""
    },
    "tags": []
   },
   "outputs": [
    {
     "name": "stdout",
     "output_type": "stream",
     "text": [
      "        database_id                                   disease_name      hpo_id\n",
      "0       OMIM:619340  Developmental and epileptic encephalopathy 96  HP:0011097\n",
      "1       OMIM:619340  Developmental and epileptic encephalopathy 96  HP:0002187\n",
      "2       OMIM:619340  Developmental and epileptic encephalopathy 96  HP:0001518\n",
      "3       OMIM:619340  Developmental and epileptic encephalopathy 96  HP:0032792\n",
      "4       OMIM:619340  Developmental and epileptic encephalopathy 96  HP:0011451\n",
      "...             ...                                            ...         ...\n",
      "268771   ORPHA:1777                               Temtamy syndrome  HP:0000324\n",
      "268772   ORPHA:1777                               Temtamy syndrome  HP:0000506\n",
      "268773   ORPHA:1777                               Temtamy syndrome  HP:0000568\n",
      "268774   ORPHA:1777                               Temtamy syndrome  HP:0004209\n",
      "268775   ORPHA:1777                               Temtamy syndrome  HP:0001382\n",
      "\n",
      "[268776 rows x 3 columns]\n"
     ]
    }
   ],
   "source": [
    "# Extract the 'database_id', 'disease_name', and 'hpo_id' columns\n",
    "data = data[['database_id', 'disease_name', 'hpo_id']]\n",
    "\n",
    "# Display the extracted columns\n",
    "print(data)"
   ]
  },
  {
   "cell_type": "code",
   "execution_count": 53,
   "id": "0ce40df0-abad-47de-a530-b74821ca7201",
   "metadata": {
    "editable": true,
    "slideshow": {
     "slide_type": ""
    },
    "tags": []
   },
   "outputs": [],
   "source": [
    "# Extract the unique hop id\n",
    "unique_hpo_id = data.drop_duplicates(subset=['hpo_id'])"
   ]
  },
  {
   "cell_type": "code",
   "execution_count": 55,
   "id": "a4421d9c-e68d-4cff-a4c2-c4b5128754ea",
   "metadata": {
    "editable": true,
    "slideshow": {
     "slide_type": ""
    },
    "tags": []
   },
   "outputs": [
    {
     "name": "stdout",
     "output_type": "stream",
     "text": [
      "11311\n"
     ]
    }
   ],
   "source": [
    "print(len(unique_hpo_id))"
   ]
  },
  {
   "cell_type": "code",
   "execution_count": 57,
   "id": "e1e3c399-9c63-4b6a-8ea9-42744ff88fb1",
   "metadata": {
    "editable": true,
    "slideshow": {
     "slide_type": ""
    },
    "tags": []
   },
   "outputs": [
    {
     "name": "stdout",
     "output_type": "stream",
     "text": [
      "0         HP:0011097\n",
      "1         HP:0002187\n",
      "2         HP:0001518\n",
      "3         HP:0032792\n",
      "4         HP:0011451\n",
      "             ...    \n",
      "268411    HP:0031467\n",
      "268553    HP:0008528\n",
      "268556    HP:0032936\n",
      "268632    HP:0500115\n",
      "268744    HP:0012518\n",
      "Name: hpo_id, Length: 11311, dtype: object\n"
     ]
    }
   ],
   "source": [
    "# Extract the hop_id column\n",
    "hpo_id_column = unique_hpo_id['hpo_id']\n",
    "\n",
    "# Display the extracted 'hpo_id' column\n",
    "print(hpo_id_column)"
   ]
  },
  {
   "cell_type": "code",
   "execution_count": 59,
   "id": "6dae4ec3-a965-4e00-89f6-6546a5501914",
   "metadata": {
    "editable": true,
    "slideshow": {
     "slide_type": ""
    },
    "tags": []
   },
   "outputs": [],
   "source": [
    "# Save the all the hpo term to csv file\n",
    "hpo_id_column.to_csv('hpo_id_all.csv', index=False)"
   ]
  },
  {
   "cell_type": "code",
   "execution_count": 61,
   "id": "7a31910a-89d4-40e9-b32a-231151bd99bc",
   "metadata": {
    "editable": true,
    "slideshow": {
     "slide_type": ""
    },
    "tags": []
   },
   "outputs": [
    {
     "name": "stdout",
     "output_type": "stream",
     "text": [
      "        database_id       disease_name      hpo_id\n",
      "154727  ORPHA:79414  Woolly hair nevus  HP:0002212\n",
      "154728  ORPHA:79414  Woolly hair nevus  HP:0002213\n",
      "154729  ORPHA:79414  Woolly hair nevus  HP:0011365\n",
      "154730  ORPHA:79414  Woolly hair nevus  HP:0040149\n",
      "154731  ORPHA:79414  Woolly hair nevus  HP:0007534\n",
      "...             ...                ...         ...\n",
      "268771   ORPHA:1777   Temtamy syndrome  HP:0000324\n",
      "268772   ORPHA:1777   Temtamy syndrome  HP:0000506\n",
      "268773   ORPHA:1777   Temtamy syndrome  HP:0000568\n",
      "268774   ORPHA:1777   Temtamy syndrome  HP:0004209\n",
      "268775   ORPHA:1777   Temtamy syndrome  HP:0001382\n",
      "\n",
      "[114049 rows x 3 columns]\n"
     ]
    }
   ],
   "source": [
    "# Extract rows where 'database_id' starts with \"ORPHA\"\n",
    "data = data[data['database_id'].str.startswith(\"ORPHA\")]\n",
    "print(data)"
   ]
  },
  {
   "cell_type": "code",
   "execution_count": 63,
   "id": "4182602a-c8f6-41d1-bd70-6ec538169a2d",
   "metadata": {
    "editable": true,
    "slideshow": {
     "slide_type": ""
    },
    "tags": []
   },
   "outputs": [
    {
     "name": "stdout",
     "output_type": "stream",
     "text": [
      "       database_id       disease_name      hpo_id\n",
      "154727       79414  Woolly hair nevus  HP:0002212\n",
      "154728       79414  Woolly hair nevus  HP:0002213\n",
      "154729       79414  Woolly hair nevus  HP:0011365\n",
      "154730       79414  Woolly hair nevus  HP:0040149\n",
      "154731       79414  Woolly hair nevus  HP:0007534\n",
      "...            ...                ...         ...\n",
      "268771        1777   Temtamy syndrome  HP:0000324\n",
      "268772        1777   Temtamy syndrome  HP:0000506\n",
      "268773        1777   Temtamy syndrome  HP:0000568\n",
      "268774        1777   Temtamy syndrome  HP:0004209\n",
      "268775        1777   Temtamy syndrome  HP:0001382\n",
      "\n",
      "[114049 rows x 3 columns]\n"
     ]
    }
   ],
   "source": [
    "# Remove \"ORPHA:\" prefix from 'database_id' entries\n",
    "data['database_id'] = data['database_id'].str.replace(\"ORPHA:\", \"\", regex=False)\n",
    "\n",
    "# Display the updated DataFrame\n",
    "print(data)"
   ]
  },
  {
   "cell_type": "code",
   "execution_count": 90,
   "id": "af9754bb-d2e1-44ea-98d0-5ae16d16c6f4",
   "metadata": {
    "editable": true,
    "slideshow": {
     "slide_type": ""
    },
    "tags": []
   },
   "outputs": [
    {
     "data": {
      "text/html": [
       "<div>\n",
       "<style scoped>\n",
       "    .dataframe tbody tr th:only-of-type {\n",
       "        vertical-align: middle;\n",
       "    }\n",
       "\n",
       "    .dataframe tbody tr th {\n",
       "        vertical-align: top;\n",
       "    }\n",
       "\n",
       "    .dataframe thead th {\n",
       "        text-align: right;\n",
       "    }\n",
       "</style>\n",
       "<table border=\"1\" class=\"dataframe\">\n",
       "  <thead>\n",
       "    <tr style=\"text-align: right;\">\n",
       "      <th></th>\n",
       "      <th>orphanet_code</th>\n",
       "      <th>disease_name</th>\n",
       "      <th>hpo_id</th>\n",
       "    </tr>\n",
       "  </thead>\n",
       "  <tbody>\n",
       "    <tr>\n",
       "      <th>0</th>\n",
       "      <td>5</td>\n",
       "      <td>Long chain 3-hydroxyacyl-CoA dehydrogenase def...</td>\n",
       "      <td>HP:0001249</td>\n",
       "    </tr>\n",
       "    <tr>\n",
       "      <th>1</th>\n",
       "      <td>5</td>\n",
       "      <td>Long chain 3-hydroxyacyl-CoA dehydrogenase def...</td>\n",
       "      <td>HP:0001939</td>\n",
       "    </tr>\n",
       "    <tr>\n",
       "      <th>2</th>\n",
       "      <td>5</td>\n",
       "      <td>Long chain 3-hydroxyacyl-CoA dehydrogenase def...</td>\n",
       "      <td>HP:0011968</td>\n",
       "    </tr>\n",
       "    <tr>\n",
       "      <th>3</th>\n",
       "      <td>5</td>\n",
       "      <td>Long chain 3-hydroxyacyl-CoA dehydrogenase def...</td>\n",
       "      <td>HP:0000532</td>\n",
       "    </tr>\n",
       "    <tr>\n",
       "      <th>4</th>\n",
       "      <td>5</td>\n",
       "      <td>Long chain 3-hydroxyacyl-CoA dehydrogenase def...</td>\n",
       "      <td>HP:0000533</td>\n",
       "    </tr>\n",
       "    <tr>\n",
       "      <th>...</th>\n",
       "      <td>...</td>\n",
       "      <td>...</td>\n",
       "      <td>...</td>\n",
       "    </tr>\n",
       "    <tr>\n",
       "      <th>114044</th>\n",
       "      <td>658549</td>\n",
       "      <td>Idiopathic small fibers neuropathy</td>\n",
       "      <td>HP:0007550</td>\n",
       "    </tr>\n",
       "    <tr>\n",
       "      <th>114045</th>\n",
       "      <td>658549</td>\n",
       "      <td>Idiopathic small fibers neuropathy</td>\n",
       "      <td>HP:0008652</td>\n",
       "    </tr>\n",
       "    <tr>\n",
       "      <th>114046</th>\n",
       "      <td>658549</td>\n",
       "      <td>Idiopathic small fibers neuropathy</td>\n",
       "      <td>HP:0002579</td>\n",
       "    </tr>\n",
       "    <tr>\n",
       "      <th>114047</th>\n",
       "      <td>658549</td>\n",
       "      <td>Idiopathic small fibers neuropathy</td>\n",
       "      <td>HP:0032147</td>\n",
       "    </tr>\n",
       "    <tr>\n",
       "      <th>114048</th>\n",
       "      <td>658549</td>\n",
       "      <td>Idiopathic small fibers neuropathy</td>\n",
       "      <td>HP:0012700</td>\n",
       "    </tr>\n",
       "  </tbody>\n",
       "</table>\n",
       "<p>114049 rows × 3 columns</p>\n",
       "</div>"
      ],
      "text/plain": [
       "        orphanet_code                                       disease_name  \\\n",
       "0                   5  Long chain 3-hydroxyacyl-CoA dehydrogenase def...   \n",
       "1                   5  Long chain 3-hydroxyacyl-CoA dehydrogenase def...   \n",
       "2                   5  Long chain 3-hydroxyacyl-CoA dehydrogenase def...   \n",
       "3                   5  Long chain 3-hydroxyacyl-CoA dehydrogenase def...   \n",
       "4                   5  Long chain 3-hydroxyacyl-CoA dehydrogenase def...   \n",
       "...               ...                                                ...   \n",
       "114044         658549                 Idiopathic small fibers neuropathy   \n",
       "114045         658549                 Idiopathic small fibers neuropathy   \n",
       "114046         658549                 Idiopathic small fibers neuropathy   \n",
       "114047         658549                 Idiopathic small fibers neuropathy   \n",
       "114048         658549                 Idiopathic small fibers neuropathy   \n",
       "\n",
       "            hpo_id  \n",
       "0       HP:0001249  \n",
       "1       HP:0001939  \n",
       "2       HP:0011968  \n",
       "3       HP:0000532  \n",
       "4       HP:0000533  \n",
       "...            ...  \n",
       "114044  HP:0007550  \n",
       "114045  HP:0008652  \n",
       "114046  HP:0002579  \n",
       "114047  HP:0032147  \n",
       "114048  HP:0012700  \n",
       "\n",
       "[114049 rows x 3 columns]"
      ]
     },
     "execution_count": 90,
     "metadata": {},
     "output_type": "execute_result"
    }
   ],
   "source": [
    "# Rename the first column \"database_id\" to \"orphanet_code\"\n",
    "data.rename(columns={\"database_id\": \"orphanet_code\"}, inplace=True)\n",
    "\n",
    "# Convert the column 'ORPHACODE' from object to int64\n",
    "data[\"orphanet_code\"] = data[\"orphanet_code\"].astype(\"int64\")\n",
    "\n",
    "# Sort by 'orphanet_code' in ascending order\n",
    "data = data.sort_values(by=\"orphanet_code\", ascending=True).reset_index(drop=True)\n",
    "data"
   ]
  },
  {
   "cell_type": "code",
   "execution_count": 92,
   "id": "3672b377-a299-4fae-bca4-0f26e41bd1e4",
   "metadata": {
    "editable": true,
    "slideshow": {
     "slide_type": ""
    },
    "tags": []
   },
   "outputs": [],
   "source": [
    "# Save all the rare disease related hpo term to csv file\n",
    "data.to_csv('hpo_id_orpha.csv', index=False)"
   ]
  },
  {
   "cell_type": "code",
   "execution_count": null,
   "id": "91479f4e-2c47-4f3d-ad9b-06e0f41462e6",
   "metadata": {
    "editable": true,
    "slideshow": {
     "slide_type": ""
    },
    "tags": []
   },
   "outputs": [],
   "source": []
  }
 ],
 "metadata": {
  "kernelspec": {
   "display_name": "Python 3 (ipykernel)",
   "language": "python",
   "name": "python3"
  },
  "language_info": {
   "codemirror_mode": {
    "name": "ipython",
    "version": 3
   },
   "file_extension": ".py",
   "mimetype": "text/x-python",
   "name": "python",
   "nbconvert_exporter": "python",
   "pygments_lexer": "ipython3",
   "version": "3.12.4"
  }
 },
 "nbformat": 4,
 "nbformat_minor": 5
}
