{
 "cells": [
  {
   "cell_type": "code",
   "execution_count": 2,
   "id": "579842f2-8fe8-40ae-b819-cf8a40d2e905",
   "metadata": {},
   "outputs": [],
   "source": [
    "import xml.etree.ElementTree as ET\n",
    "import pandas as pd"
   ]
  },
  {
   "cell_type": "code",
   "execution_count": 4,
   "id": "87825855-7f79-42ea-8301-ac55d8bbdff8",
   "metadata": {},
   "outputs": [],
   "source": [
    "# OrphaCode and Inheritance information \"en_product9_ages.xml\" is available on this website \n",
    "# https://github.com/Orphanet/Orphadata_aggregated/tree/master/Epidemiological%20data/Rare%20diseases%20natural%20history\n",
    "\n",
    "tree = ET.parse('en_product9_ages.xml')\n",
    "root = tree.getroot()\n",
    "\n",
    "# Extract OrphaCode and Type of Inheritance Name (lang=\"en\")\n",
    "inheritance_data = []\n",
    "for disorder in root.findall(\".//Disorder\"):\n",
    "    orpha_code = disorder.find(\"OrphaCode\").text\n",
    "    inheritance_element = disorder.find(\".//TypeOfInheritanceList/TypeOfInheritance/Name[@lang='en']\")\n",
    "    if inheritance_element is not None:\n",
    "        inheritance_data.append({\n",
    "            \"OrphaCode\": orpha_code,\n",
    "            \"TypeOfInheritance\": inheritance_element.text\n",
    "        })"
   ]
  },
  {
   "cell_type": "code",
   "execution_count": 6,
   "id": "53765ec7-1b0c-4e34-94ee-0d26ed13cd61",
   "metadata": {},
   "outputs": [],
   "source": [
    "# Convert list to DataFrame\n",
    "df = pd.DataFrame(inheritance_data)"
   ]
  },
  {
   "cell_type": "code",
   "execution_count": 8,
   "id": "832b9e7d-ee75-49ab-9cee-840d25aa66db",
   "metadata": {},
   "outputs": [
    {
     "name": "stdout",
     "output_type": "stream",
     "text": [
      "     OrphaCode    TypeOfInheritance\n",
      "0       166024  Autosomal recessive\n",
      "1           58   Autosomal dominant\n",
      "2           61  Autosomal recessive\n",
      "3           93  Autosomal recessive\n",
      "4          585  Autosomal recessive\n",
      "...        ...                  ...\n",
      "5529    641361  Autosomal recessive\n",
      "5530    642747   Autosomal dominant\n",
      "5531    617919   Autosomal dominant\n",
      "5532    619363   Autosomal dominant\n",
      "5533    619233   Autosomal dominant\n",
      "\n",
      "[5534 rows x 2 columns]\n"
     ]
    }
   ],
   "source": [
    "print(df)"
   ]
  },
  {
   "cell_type": "code",
   "execution_count": 14,
   "id": "561e3de5-6d31-497b-80c2-d469bb422d91",
   "metadata": {},
   "outputs": [
    {
     "name": "stdout",
     "output_type": "stream",
     "text": [
      "     OrphaCode    TypeOfInheritance\n",
      "0       166024  Autosomal recessive\n",
      "1           58   Autosomal dominant\n",
      "2           61  Autosomal recessive\n",
      "3           93  Autosomal recessive\n",
      "4          585  Autosomal recessive\n",
      "...        ...                  ...\n",
      "5529    641361  Autosomal recessive\n",
      "5530    642747   Autosomal dominant\n",
      "5531    617919   Autosomal dominant\n",
      "5532    619363   Autosomal dominant\n",
      "5533    619233   Autosomal dominant\n",
      "\n",
      "[3617 rows x 2 columns]\n"
     ]
    }
   ],
   "source": [
    "# Filter rows where TypeOfInheritance is either \"Autosomal recessive\" or \"Autosomal dominant\"\n",
    "df_filtered = df[df['TypeOfInheritance'].isin(['Autosomal recessive', 'Autosomal dominant'])]\n",
    "\n",
    "# Display the filtered DataFrame\n",
    "print(df_filtered)"
   ]
  },
  {
   "cell_type": "code",
   "execution_count": 18,
   "id": "f1559a91-c199-49e6-840a-3f7d7db12984",
   "metadata": {},
   "outputs": [
    {
     "name": "stdout",
     "output_type": "stream",
     "text": [
      "     OrphaCode TypeOfInheritance\n",
      "0       166024                AR\n",
      "1           58                AD\n",
      "2           61                AR\n",
      "3           93                AR\n",
      "4          585                AR\n",
      "...        ...               ...\n",
      "5529    641361                AR\n",
      "5530    642747                AD\n",
      "5531    617919                AD\n",
      "5532    619363                AD\n",
      "5533    619233                AD\n",
      "\n",
      "[3617 rows x 2 columns]\n"
     ]
    },
    {
     "name": "stderr",
     "output_type": "stream",
     "text": [
      "/var/folders/fq/f9fql1ns42j64klkb0rn71l80000gn/T/ipykernel_32689/1580913627.py:2: SettingWithCopyWarning: \n",
      "A value is trying to be set on a copy of a slice from a DataFrame\n",
      "\n",
      "See the caveats in the documentation: https://pandas.pydata.org/pandas-docs/stable/user_guide/indexing.html#returning-a-view-versus-a-copy\n",
      "  df_filtered.loc[df_filtered['TypeOfInheritance'] == 'Autosomal recessive', 'TypeOfInheritance'] = 'AR'\n",
      "/var/folders/fq/f9fql1ns42j64klkb0rn71l80000gn/T/ipykernel_32689/1580913627.py:3: SettingWithCopyWarning: \n",
      "A value is trying to be set on a copy of a slice from a DataFrame\n",
      "\n",
      "See the caveats in the documentation: https://pandas.pydata.org/pandas-docs/stable/user_guide/indexing.html#returning-a-view-versus-a-copy\n",
      "  df_filtered.loc[df_filtered['TypeOfInheritance'] == 'Autosomal dominant', 'TypeOfInheritance'] = 'AD'\n"
     ]
    }
   ],
   "source": [
    "# Use .loc to replace 'Autosomal recessive' with 'AR' and 'Autosomal dominant' with 'AD' directly\n",
    "df_filtered \n",
    "df_filtered.loc[df_filtered['TypeOfInheritance'] == 'Autosomal recessive', 'TypeOfInheritance'] = 'AR'\n",
    "df_filtered.loc[df_filtered['TypeOfInheritance'] == 'Autosomal dominant', 'TypeOfInheritance'] = 'AD'\n",
    "\n",
    "# Display the modified DataFrame\n",
    "print(df_filtered)"
   ]
  },
  {
   "cell_type": "code",
   "execution_count": 57,
   "id": "d9f6c4cd-b72d-494c-a664-7be19abfc5d1",
   "metadata": {},
   "outputs": [
    {
     "name": "stdout",
     "output_type": "stream",
     "text": [
      "     TypeOfInheritance  Count\n",
      "0   Autosomal dominant   1708\n",
      "1  Autosomal recessive   1909\n"
     ]
    }
   ],
   "source": [
    "# Group by TypeOfInheritance and count occurrences\n",
    "inheritance_group = df_filtered.groupby('TypeOfInheritance').size().reset_index(name='Count')\n",
    "\n",
    "# Display grouped data\n",
    "print(inheritance_group)"
   ]
  },
  {
   "cell_type": "code",
   "execution_count": 59,
   "id": "52cbecac-64d7-4cfd-a867-c75824da2b7d",
   "metadata": {},
   "outputs": [],
   "source": [
    "# Save DataFrame as a CSV file\n",
    "df_filtered.to_csv('Orpha_Inheritance.csv', index=False)"
   ]
  },
  {
   "cell_type": "code",
   "execution_count": null,
   "id": "46104f1b-3122-4143-b9ac-df1acde52618",
   "metadata": {},
   "outputs": [],
   "source": []
  },
  {
   "cell_type": "code",
   "execution_count": null,
   "id": "67a4235e-12fe-447d-be4c-d938bccacd9d",
   "metadata": {},
   "outputs": [],
   "source": []
  }
 ],
 "metadata": {
  "kernelspec": {
   "display_name": "Python 3 (ipykernel)",
   "language": "python",
   "name": "python3"
  },
  "language_info": {
   "codemirror_mode": {
    "name": "ipython",
    "version": 3
   },
   "file_extension": ".py",
   "mimetype": "text/x-python",
   "name": "python",
   "nbconvert_exporter": "python",
   "pygments_lexer": "ipython3",
   "version": "3.12.4"
  }
 },
 "nbformat": 4,
 "nbformat_minor": 5
}
